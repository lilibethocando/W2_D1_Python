{
 "cells": [
  {
   "cell_type": "markdown",
   "id": "999dd0e2",
   "metadata": {},
   "source": [
    "# Exercise #1\n",
    "\n",
    "Cube Number Test... Print out all cubed numbers up to the total value 1000. Meaning that if the cubed number is over 1000 break the loop."
   ]
  },
  {
   "cell_type": "code",
   "execution_count": 22,
   "id": "ec403142",
   "metadata": {},
   "outputs": [],
   "source": [
    "def cube_number():\n",
    "   for n in range(1000):\n",
    "    cube = n**3\n",
    "    print(cube)\n",
    "    if cube == 1000:\n",
    "        break\n",
    "\n",
    "\n",
    "    "
   ]
  },
  {
   "cell_type": "code",
   "execution_count": 23,
   "id": "6e1f5545",
   "metadata": {},
   "outputs": [
    {
     "name": "stdout",
     "output_type": "stream",
     "text": [
      "0\n",
      "1\n",
      "8\n",
      "27\n",
      "64\n",
      "125\n",
      "216\n",
      "343\n",
      "512\n",
      "729\n",
      "1000\n"
     ]
    }
   ],
   "source": [
    "cube_number()"
   ]
  },
  {
   "cell_type": "markdown",
   "id": "c9bf16e1",
   "metadata": {},
   "source": [
    "# Exercise #2\n",
    "Get first prime numbers up to 100"
   ]
  },
  {
   "cell_type": "code",
   "execution_count": 105,
   "id": "a2870c28",
   "metadata": {},
   "outputs": [
    {
     "name": "stdout",
     "output_type": "stream",
     "text": [
      "[1, 2, 3, 5, 7, 11, 13, 17, 19, 23, 29, 31, 37, 41, 43, 47, 53, 59, 61, 67, 71, 73, 79, 83, 89, 97]\n"
     ]
    }
   ],
   "source": [
    "# Prime number - A number that is divisible by only 1 and itself\n",
    "#All numbers are divisible by 1 and the number itself\n",
    "#if a number is divisible by a number between 2 and the number - 1 it is not prime\n",
    "\n",
    "def isprime(number):\n",
    "    for num in range(2, number):\n",
    "        if number % num == 0:\n",
    "            return False\n",
    "    return True\n",
    "\n",
    "n = 0\n",
    "result_list = []\n",
    "while n < 100:\n",
    "    n += 1\n",
    "    if isprime(n):\n",
    "        result_list.append(n)\n",
    "    else:\n",
    "        continue\n",
    "print(result_list)\n",
    "            \n",
    "           \n",
    "        \n"
   ]
  },
  {
   "cell_type": "markdown",
   "id": "e95d67df",
   "metadata": {},
   "source": [
    "# Exercise 3\n",
    "\n",
    "Take in a users input for their age, if they are younger than 18 print kids, if they're 18 to 65 print adults, else print seniors"
   ]
  },
  {
   "cell_type": "code",
   "execution_count": 119,
   "id": "194a29e1",
   "metadata": {},
   "outputs": [
    {
     "name": "stdout",
     "output_type": "stream",
     "text": [
      "Enter your age:\n",
      "18\n",
      "Adults\n"
     ]
    }
   ],
   "source": [
    "age = int(input(\"Enter your age:\\n\"))\n",
    "if age < 18:\n",
    "    print(\"Kids\")\n",
    "elif 18 <= age <= 65:\n",
    "    print(\"Adults\")\n",
    "else:\n",
    "    print(\"Seniors\")"
   ]
  },
  {
   "cell_type": "code",
   "execution_count": null,
   "id": "c475de3d",
   "metadata": {},
   "outputs": [],
   "source": []
  }
 ],
 "metadata": {
  "kernelspec": {
   "display_name": "Python 3 (ipykernel)",
   "language": "python",
   "name": "python3"
  },
  "language_info": {
   "codemirror_mode": {
    "name": "ipython",
    "version": 3
   },
   "file_extension": ".py",
   "mimetype": "text/x-python",
   "name": "python",
   "nbconvert_exporter": "python",
   "pygments_lexer": "ipython3",
   "version": "3.11.5"
  }
 },
 "nbformat": 4,
 "nbformat_minor": 5
}
